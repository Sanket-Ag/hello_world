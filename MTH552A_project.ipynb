{
  "nbformat": 4,
  "nbformat_minor": 0,
  "metadata": {
    "colab": {
      "name": "MTH552A_project.ipynb",
      "provenance": [],
      "collapsed_sections": [
        "ZwkItPzZCq4G",
        "Lx3sx8HJCwrD"
      ],
      "authorship_tag": "ABX9TyOo/9UUTdjb0RpAhi5tPkzU",
      "include_colab_link": true
    },
    "kernelspec": {
      "name": "python3",
      "display_name": "Python 3"
    },
    "accelerator": "GPU"
  },
  "cells": [
    {
      "cell_type": "markdown",
      "metadata": {
        "id": "view-in-github",
        "colab_type": "text"
      },
      "source": [
        "<a href=\"https://colab.research.google.com/github/babasanku/hello_world/blob/master/MTH552A_project.ipynb\" target=\"_parent\"><img src=\"https://colab.research.google.com/assets/colab-badge.svg\" alt=\"Open In Colab\"/></a>"
      ]
    },
    {
      "cell_type": "markdown",
      "metadata": {
        "id": "7Cp-fOqiq18I",
        "colab_type": "text"
      },
      "source": [
        "## MTH552A Project "
      ]
    },
    {
      "cell_type": "markdown",
      "metadata": {
        "id": "8KmCbxjveAKC",
        "colab_type": "text"
      },
      "source": [
        "**Base Accuracies for different models:**\n",
        "\n",
        "Model | FC1 | FC2 | Conv1 | Conv2\n",
        "--- | --- | --- | --- | --- |\n",
        "Base Acc. | 0.9716 | 0.9697 | 0.9915 | 0.9921\n",
        "\n",
        "**Accuracy on adversarial examples:** \\\\\n",
        "(columns represent models and rows represent where the adversarial examples were generarted)\n",
        "\n",
        "Model | FC1 | FC2 | Conv1 | Conv2\n",
        "--- | --- | --- | --- | --- |\n",
        "FC1 | 0.0077 | 0.1098 | 0.9757 | 0.9739\n",
        "FC2 | 0.0604 | 0.0257 | 0.9739 | 0.9730\n",
        "Conv1 | 0.9160 | 0.9164 | 0.7013 | 0.9418\n",
        "Conv2 | 0.8882 | 0.9034 | 0.9356 | 0.7935\n",
        "\n",
        "**Accuracy on adversarial examples after adversarial training:**\n",
        "\n",
        "Model | FC1 | FC2 | Conv1 | Conv2\n",
        "--- | --- | --- | --- | --- |\n",
        "FC1 | 1.0000 | 0.9456 | 0.9942 | 0.9448\n",
        "FC2 | 0.8756 | 1.0000 | 0.9948 | 0.9597\n",
        "Conv1 | 1.0000 | 0.9431 | 1.0000 | 0.9700\n",
        "Conv2 | 0.9329 | 0.9353 | 0.9905 | 1.0000\n",
        "\n",
        "**Accuracy on newly generated adversarial examples:**\n",
        "\n",
        "For base models:\n",
        "\n",
        "Model | FC1 | FC2 | Conv1 | Conv2\n",
        "--- | --- | --- | --- | --- |\n",
        "FC1 | 0.0055 | 0.1315 | 0.9688 | 0.9777\n",
        "FC2 | 0.0700 | 0.0351 | 0.9664 | 0.9774\n",
        "Conv1 | 0.9125 | 0.9188 | 0.6363 | 0.9385\n",
        "Conv2 | 0.9241 | 0.9295 | 0.9215 | 0.8435\n",
        "\n",
        "For adversarially trained models:\n",
        "\n",
        "Model | FC1 | FC2 | Conv1 | Conv2\n",
        "--- | --- | --- | --- | --- |\n",
        "FC1 | 0.9997 | 0.9133 | 0.9894 | 0.8421\n",
        "FC2 | 0.8167 | 0.9995 | 0.9911 | 0.7972\n",
        "Conv1 | 0.9241 | 0.9326 | 0.9987 | 0.8790\n",
        "Conv2 | 0.9356 | 0.9362 | 0.9628 | 0.9990\n",
        "\n",
        "**Accuracy of adversarially trained models on original images**\n",
        "\n",
        "Model | FC1 | FC2 | Conv1 | Conv2\n",
        "--- | --- | --- | --- | --- |\n",
        "Adv Acc. | 0.9733 | 0.9734 | 0.9911 | 0.9918"
      ]
    },
    {
      "cell_type": "markdown",
      "metadata": {
        "id": "m5i1Koy9fcWQ",
        "colab_type": "text"
      },
      "source": [
        "## Loading Libraries and dataset..."
      ]
    },
    {
      "cell_type": "code",
      "metadata": {
        "id": "SHQafjAqyILR",
        "colab_type": "code",
        "colab": {}
      },
      "source": [
        "# Importing libraries\n",
        "import numpy as np\n",
        "import tensorflow as tf\n",
        "import matplotlib as mpl\n",
        "import matplotlib.pyplot as plt\n",
        "from tensorflow.keras.preprocessing.image import load_img, img_to_array, array_to_img"
      ],
      "execution_count": 0,
      "outputs": []
    },
    {
      "cell_type": "code",
      "metadata": {
        "id": "xKzFSZRIpxP_",
        "colab_type": "code",
        "outputId": "d95f467b-3e1b-4eba-9a1d-60734e2bf0c6",
        "colab": {
          "base_uri": "https://localhost:8080/",
          "height": 0
        }
      },
      "source": [
        "mnist = tf.keras.datasets.mnist\n",
        "(training_images, training_labels), (test_images, test_labels) = mnist.load_data()"
      ],
      "execution_count": 2,
      "outputs": [
        {
          "output_type": "stream",
          "text": [
            "Downloading data from https://storage.googleapis.com/tensorflow/tf-keras-datasets/mnist.npz\n",
            "11493376/11490434 [==============================] - 0s 0us/step\n"
          ],
          "name": "stdout"
        }
      ]
    },
    {
      "cell_type": "code",
      "metadata": {
        "id": "K6CoBItbrJN8",
        "colab_type": "code",
        "colab": {}
      },
      "source": [
        "# Normalizing and reshaping data...\n",
        "training_images, test_images = training_images / 255.0 , test_images / 255.0\n",
        "\n",
        "training_images = training_images.reshape(-1, 28, 28, 1)\n",
        "test_images = test_images.reshape(-1, 28, 28, 1)\n",
        "input_shape = (28, 28, 1)"
      ],
      "execution_count": 0,
      "outputs": []
    },
    {
      "cell_type": "markdown",
      "metadata": {
        "id": "ZwkItPzZCq4G",
        "colab_type": "text"
      },
      "source": [
        "## Fully Connected Model"
      ]
    },
    {
      "cell_type": "code",
      "metadata": {
        "id": "oWNpKrvGEt-k",
        "colab_type": "code",
        "colab": {
          "base_uri": "https://localhost:8080/",
          "height": 692
        },
        "outputId": "ae44ac0c-f369-4c4c-b464-b4ff00f6a11a"
      },
      "source": [
        "# Model building (Fully connected)...\n",
        "model_fc_1 = tf.keras.models.Sequential([tf.keras.layers.Flatten(),\n",
        "                                     tf.keras.layers.Dense(1024, activation = tf.nn.relu),\n",
        "                                     tf.keras.layers.Dense(256, activation = tf.nn.relu),\n",
        "                                     tf.keras.layers.Dense(10, activation = tf.nn.softmax)\n",
        "  ])\n",
        "\n",
        "model_fc_1.compile(optimizer = tf.keras.optimizers.Adam(learning_rate = 0.0001),\n",
        "             loss = 'sparse_categorical_crossentropy',\n",
        "             metrics = ['accuracy'])\n",
        "\n",
        "model_fc_1.fit(training_images, training_labels, batch_size=512,  epochs = 10)\n",
        "model_fc_1.summary()\n",
        "model_fc_1.evaluate(test_images, test_labels, batch_size = 512)"
      ],
      "execution_count": 4,
      "outputs": [
        {
          "output_type": "stream",
          "text": [
            "Epoch 1/10\n",
            "118/118 [==============================] - 1s 6ms/step - loss: 0.8380 - accuracy: 0.8082\n",
            "Epoch 2/10\n",
            "118/118 [==============================] - 1s 6ms/step - loss: 0.2814 - accuracy: 0.9235\n",
            "Epoch 3/10\n",
            "118/118 [==============================] - 1s 7ms/step - loss: 0.2160 - accuracy: 0.9407\n",
            "Epoch 4/10\n",
            "118/118 [==============================] - 1s 6ms/step - loss: 0.1782 - accuracy: 0.9506\n",
            "Epoch 5/10\n",
            "118/118 [==============================] - 1s 6ms/step - loss: 0.1523 - accuracy: 0.9577\n",
            "Epoch 6/10\n",
            "118/118 [==============================] - 1s 6ms/step - loss: 0.1325 - accuracy: 0.9635\n",
            "Epoch 7/10\n",
            "118/118 [==============================] - 1s 6ms/step - loss: 0.1174 - accuracy: 0.9680\n",
            "Epoch 8/10\n",
            "118/118 [==============================] - 1s 6ms/step - loss: 0.1040 - accuracy: 0.9717\n",
            "Epoch 9/10\n",
            "118/118 [==============================] - 1s 6ms/step - loss: 0.0935 - accuracy: 0.9743\n",
            "Epoch 10/10\n",
            "118/118 [==============================] - 1s 6ms/step - loss: 0.0842 - accuracy: 0.9771\n",
            "Model: \"sequential\"\n",
            "_________________________________________________________________\n",
            "Layer (type)                 Output Shape              Param #   \n",
            "=================================================================\n",
            "flatten (Flatten)            multiple                  0         \n",
            "_________________________________________________________________\n",
            "dense (Dense)                multiple                  803840    \n",
            "_________________________________________________________________\n",
            "dense_1 (Dense)              multiple                  262400    \n",
            "_________________________________________________________________\n",
            "dense_2 (Dense)              multiple                  2570      \n",
            "=================================================================\n",
            "Total params: 1,068,810\n",
            "Trainable params: 1,068,810\n",
            "Non-trainable params: 0\n",
            "_________________________________________________________________\n",
            "20/20 [==============================] - 0s 4ms/step - loss: 0.0979 - accuracy: 0.9709\n"
          ],
          "name": "stdout"
        },
        {
          "output_type": "execute_result",
          "data": {
            "text/plain": [
              "[0.09793858975172043, 0.9708999991416931]"
            ]
          },
          "metadata": {
            "tags": []
          },
          "execution_count": 4
        }
      ]
    },
    {
      "cell_type": "code",
      "metadata": {
        "id": "1aApYBl56ZLj",
        "colab_type": "code",
        "outputId": "493708be-1590-4a01-ad35-9891515069b3",
        "colab": {
          "base_uri": "https://localhost:8080/",
          "height": 763
        }
      },
      "source": [
        "model_fc_2 = tf.keras.models.Sequential([tf.keras.layers.Flatten(),\n",
        "                                     tf.keras.layers.Dense(1024, activation = tf.nn.relu),\n",
        "                                     tf.keras.layers.Dropout(0.2),\n",
        "                                     tf.keras.layers.Dense(256, activation = tf.nn.relu),\n",
        "                                     tf.keras.layers.Dropout(0.2),\n",
        "                                     tf.keras.layers.Dense(10, activation = tf.nn.softmax)\n",
        "  ])\n",
        "\n",
        "model_fc_2.compile(optimizer = tf.keras.optimizers.Adam(learning_rate = 0.0001),\n",
        "             loss = 'sparse_categorical_crossentropy',\n",
        "             metrics = ['accuracy'])\n",
        "\n",
        "model_fc_2.fit(training_images, training_labels, batch_size=512,  epochs = 10)\n",
        "model_fc_2.summary()\n",
        "model_fc_2.evaluate(test_images, test_labels, batch_size = 512)"
      ],
      "execution_count": 5,
      "outputs": [
        {
          "output_type": "stream",
          "text": [
            "Epoch 1/10\n",
            "118/118 [==============================] - 1s 6ms/step - loss: 0.9571 - accuracy: 0.7584\n",
            "Epoch 2/10\n",
            "118/118 [==============================] - 1s 6ms/step - loss: 0.3433 - accuracy: 0.9025\n",
            "Epoch 3/10\n",
            "118/118 [==============================] - 1s 6ms/step - loss: 0.2620 - accuracy: 0.9256\n",
            "Epoch 4/10\n",
            "118/118 [==============================] - 1s 6ms/step - loss: 0.2153 - accuracy: 0.9385\n",
            "Epoch 5/10\n",
            "118/118 [==============================] - 1s 6ms/step - loss: 0.1863 - accuracy: 0.9459\n",
            "Epoch 6/10\n",
            "118/118 [==============================] - 1s 6ms/step - loss: 0.1637 - accuracy: 0.9527\n",
            "Epoch 7/10\n",
            "118/118 [==============================] - 1s 6ms/step - loss: 0.1466 - accuracy: 0.9578\n",
            "Epoch 8/10\n",
            "118/118 [==============================] - 1s 6ms/step - loss: 0.1317 - accuracy: 0.9625\n",
            "Epoch 9/10\n",
            "118/118 [==============================] - 1s 6ms/step - loss: 0.1197 - accuracy: 0.9648\n",
            "Epoch 10/10\n",
            "118/118 [==============================] - 1s 6ms/step - loss: 0.1098 - accuracy: 0.9686\n",
            "Model: \"sequential_1\"\n",
            "_________________________________________________________________\n",
            "Layer (type)                 Output Shape              Param #   \n",
            "=================================================================\n",
            "flatten_1 (Flatten)          multiple                  0         \n",
            "_________________________________________________________________\n",
            "dense_3 (Dense)              multiple                  803840    \n",
            "_________________________________________________________________\n",
            "dropout (Dropout)            multiple                  0         \n",
            "_________________________________________________________________\n",
            "dense_4 (Dense)              multiple                  262400    \n",
            "_________________________________________________________________\n",
            "dropout_1 (Dropout)          multiple                  0         \n",
            "_________________________________________________________________\n",
            "dense_5 (Dense)              multiple                  2570      \n",
            "=================================================================\n",
            "Total params: 1,068,810\n",
            "Trainable params: 1,068,810\n",
            "Non-trainable params: 0\n",
            "_________________________________________________________________\n",
            "20/20 [==============================] - 0s 4ms/step - loss: 0.0980 - accuracy: 0.9702\n"
          ],
          "name": "stdout"
        },
        {
          "output_type": "execute_result",
          "data": {
            "text/plain": [
              "[0.0980391576886177, 0.9702000021934509]"
            ]
          },
          "metadata": {
            "tags": []
          },
          "execution_count": 5
        }
      ]
    },
    {
      "cell_type": "markdown",
      "metadata": {
        "id": "Lx3sx8HJCwrD",
        "colab_type": "text"
      },
      "source": [
        "## Convolutional Neural Networks (CNN) Model"
      ]
    },
    {
      "cell_type": "code",
      "metadata": {
        "id": "SqYX70J5MY0G",
        "colab_type": "code",
        "outputId": "ba5d22fb-483c-442c-ffe3-61afba93c02b",
        "colab": {
          "base_uri": "https://localhost:8080/",
          "height": 798
        }
      },
      "source": [
        "# Model building (Convolutional Neural Networks)...\n",
        "model_cnn_1 = tf.keras.models.Sequential([tf.keras.layers.Conv2D(64, (3,3), activation=tf.nn.relu, input_shape = input_shape),\n",
        "                                        tf.keras.layers.MaxPooling2D((2,2)),\n",
        "                                        tf.keras.layers.Conv2D(256, (3,3), activation=tf.nn.relu),\n",
        "                                        tf.keras.layers.MaxPooling2D((2,2)),\n",
        "                                        tf.keras.layers.Flatten(),\n",
        "                                        tf.keras.layers.Dense(256, activation=tf.nn.relu),\n",
        "                                        tf.keras.layers.Dense(10, activation=tf.nn.softmax)\n",
        "])\n",
        "\n",
        "model_cnn_1.compile(optimizer = tf.keras.optimizers.Adam(),\n",
        "                  loss = 'sparse_categorical_crossentropy',\n",
        "                  metrics = ['accuracy'])\n",
        "\n",
        "model_cnn_1.fit(training_images, training_labels, batch_size=512,  epochs = 10)\n",
        "model_cnn_1.summary()\n",
        "model_cnn_1.evaluate(test_images, test_labels, batch_size = 512)"
      ],
      "execution_count": 6,
      "outputs": [
        {
          "output_type": "stream",
          "text": [
            "Epoch 1/10\n",
            "118/118 [==============================] - 6s 50ms/step - loss: 0.2662 - accuracy: 0.9212\n",
            "Epoch 2/10\n",
            "118/118 [==============================] - 6s 49ms/step - loss: 0.0577 - accuracy: 0.9826\n",
            "Epoch 3/10\n",
            "118/118 [==============================] - 6s 49ms/step - loss: 0.0403 - accuracy: 0.9878\n",
            "Epoch 4/10\n",
            "118/118 [==============================] - 6s 49ms/step - loss: 0.0300 - accuracy: 0.9908\n",
            "Epoch 5/10\n",
            "118/118 [==============================] - 6s 49ms/step - loss: 0.0232 - accuracy: 0.9930\n",
            "Epoch 6/10\n",
            "118/118 [==============================] - 6s 49ms/step - loss: 0.0186 - accuracy: 0.9942\n",
            "Epoch 7/10\n",
            "118/118 [==============================] - 6s 49ms/step - loss: 0.0134 - accuracy: 0.9957\n",
            "Epoch 8/10\n",
            "118/118 [==============================] - 6s 50ms/step - loss: 0.0107 - accuracy: 0.9967\n",
            "Epoch 9/10\n",
            "118/118 [==============================] - 6s 50ms/step - loss: 0.0097 - accuracy: 0.9968\n",
            "Epoch 10/10\n",
            "118/118 [==============================] - 6s 50ms/step - loss: 0.0086 - accuracy: 0.9972\n",
            "Model: \"sequential_2\"\n",
            "_________________________________________________________________\n",
            "Layer (type)                 Output Shape              Param #   \n",
            "=================================================================\n",
            "conv2d (Conv2D)              (None, 26, 26, 64)        640       \n",
            "_________________________________________________________________\n",
            "max_pooling2d (MaxPooling2D) (None, 13, 13, 64)        0         \n",
            "_________________________________________________________________\n",
            "conv2d_1 (Conv2D)            (None, 11, 11, 256)       147712    \n",
            "_________________________________________________________________\n",
            "max_pooling2d_1 (MaxPooling2 (None, 5, 5, 256)         0         \n",
            "_________________________________________________________________\n",
            "flatten_2 (Flatten)          (None, 6400)              0         \n",
            "_________________________________________________________________\n",
            "dense_6 (Dense)              (None, 256)               1638656   \n",
            "_________________________________________________________________\n",
            "dense_7 (Dense)              (None, 10)                2570      \n",
            "=================================================================\n",
            "Total params: 1,789,578\n",
            "Trainable params: 1,789,578\n",
            "Non-trainable params: 0\n",
            "_________________________________________________________________\n",
            "20/20 [==============================] - 0s 22ms/step - loss: 0.0277 - accuracy: 0.9917\n"
          ],
          "name": "stdout"
        },
        {
          "output_type": "execute_result",
          "data": {
            "text/plain": [
              "[0.02771899662911892, 0.9916999936103821]"
            ]
          },
          "metadata": {
            "tags": []
          },
          "execution_count": 6
        }
      ]
    },
    {
      "cell_type": "markdown",
      "metadata": {
        "id": "pFqsromiWmEe",
        "colab_type": "text"
      },
      "source": [
        "This was a naive CNN model. Again notice the difference between training accuracy and validation accuracy. This points to overfitting in the model. Below is a more complex architecture and includes Dropout layers to deal with over-fitting."
      ]
    },
    {
      "cell_type": "code",
      "metadata": {
        "id": "nmnfrRxfC40d",
        "colab_type": "code",
        "outputId": "98cca333-b3fb-4450-d1c0-1564cbbf6599",
        "colab": {
          "base_uri": "https://localhost:8080/",
          "height": 941
        }
      },
      "source": [
        "model_cnn_2 = tf.keras.models.Sequential([tf.keras.layers.Conv2D(32, (3,3), activation=tf.nn.relu, input_shape=input_shape),\n",
        "                                      tf.keras.layers.Conv2D(32, (3,3), activation = tf.nn.relu),\n",
        "                                      tf.keras.layers.MaxPooling2D((2,2)),\n",
        "                                      tf.keras.layers.Dropout(0.1),\n",
        "                                      tf.keras.layers.Flatten(),\n",
        "                                      tf.keras.layers.Dropout(0.25),\n",
        "                                      tf.keras.layers.Dense(256, activation=tf.nn.relu),\n",
        "                                      tf.keras.layers.Dropout(0.5),\n",
        "                                      tf.keras.layers.Dense(512, activation = tf.nn.relu),\n",
        "                                      tf.keras.layers.Dropout(0.5),\n",
        "                                      tf.keras.layers.Dense(10, activation = 'softmax')\n",
        "  ])\n",
        "\n",
        "model_cnn_2.compile(optimizer = tf.keras.optimizers.Adam(),\n",
        "             loss = 'sparse_categorical_crossentropy',\n",
        "             metrics = ['accuracy'])\n",
        "\n",
        "model_cnn_2.fit(training_images, training_labels, batch_size=512,  epochs = 10)\n",
        "model_cnn_2.summary()\n",
        "model_cnn_2.evaluate(test_images, test_labels, batch_size = 512)"
      ],
      "execution_count": 7,
      "outputs": [
        {
          "output_type": "stream",
          "text": [
            "Epoch 1/10\n",
            "118/118 [==============================] - 3s 29ms/step - loss: 0.4885 - accuracy: 0.8457\n",
            "Epoch 2/10\n",
            "118/118 [==============================] - 3s 29ms/step - loss: 0.1195 - accuracy: 0.9644\n",
            "Epoch 3/10\n",
            "118/118 [==============================] - 3s 29ms/step - loss: 0.0831 - accuracy: 0.9748\n",
            "Epoch 4/10\n",
            "118/118 [==============================] - 3s 29ms/step - loss: 0.0658 - accuracy: 0.9799\n",
            "Epoch 5/10\n",
            "118/118 [==============================] - 3s 29ms/step - loss: 0.0594 - accuracy: 0.9816\n",
            "Epoch 6/10\n",
            "118/118 [==============================] - 3s 29ms/step - loss: 0.0487 - accuracy: 0.9847\n",
            "Epoch 7/10\n",
            "118/118 [==============================] - 3s 29ms/step - loss: 0.0448 - accuracy: 0.9863\n",
            "Epoch 8/10\n",
            "118/118 [==============================] - 3s 29ms/step - loss: 0.0400 - accuracy: 0.9873\n",
            "Epoch 9/10\n",
            "118/118 [==============================] - 3s 29ms/step - loss: 0.0360 - accuracy: 0.9886\n",
            "Epoch 10/10\n",
            "118/118 [==============================] - 3s 29ms/step - loss: 0.0332 - accuracy: 0.9898\n",
            "Model: \"sequential_3\"\n",
            "_________________________________________________________________\n",
            "Layer (type)                 Output Shape              Param #   \n",
            "=================================================================\n",
            "conv2d_2 (Conv2D)            (None, 26, 26, 32)        320       \n",
            "_________________________________________________________________\n",
            "conv2d_3 (Conv2D)            (None, 24, 24, 32)        9248      \n",
            "_________________________________________________________________\n",
            "max_pooling2d_2 (MaxPooling2 (None, 12, 12, 32)        0         \n",
            "_________________________________________________________________\n",
            "dropout_2 (Dropout)          (None, 12, 12, 32)        0         \n",
            "_________________________________________________________________\n",
            "flatten_3 (Flatten)          (None, 4608)              0         \n",
            "_________________________________________________________________\n",
            "dropout_3 (Dropout)          (None, 4608)              0         \n",
            "_________________________________________________________________\n",
            "dense_8 (Dense)              (None, 256)               1179904   \n",
            "_________________________________________________________________\n",
            "dropout_4 (Dropout)          (None, 256)               0         \n",
            "_________________________________________________________________\n",
            "dense_9 (Dense)              (None, 512)               131584    \n",
            "_________________________________________________________________\n",
            "dropout_5 (Dropout)          (None, 512)               0         \n",
            "_________________________________________________________________\n",
            "dense_10 (Dense)             (None, 10)                5130      \n",
            "=================================================================\n",
            "Total params: 1,326,186\n",
            "Trainable params: 1,326,186\n",
            "Non-trainable params: 0\n",
            "_________________________________________________________________\n",
            "20/20 [==============================] - 0s 13ms/step - loss: 0.0271 - accuracy: 0.9916\n"
          ],
          "name": "stdout"
        },
        {
          "output_type": "execute_result",
          "data": {
            "text/plain": [
              "[0.027146698907017708, 0.991599977016449]"
            ]
          },
          "metadata": {
            "tags": []
          },
          "execution_count": 7
        }
      ]
    },
    {
      "cell_type": "markdown",
      "metadata": {
        "id": "8d8r43LFclxJ",
        "colab_type": "text"
      },
      "source": [
        "# Generating Adversarial examples using FGSM"
      ]
    },
    {
      "cell_type": "code",
      "metadata": {
        "id": "2IekYdQRQcLo",
        "colab_type": "code",
        "colab": {}
      },
      "source": [
        "# Generate integer labels from model output\n",
        "def get_int_label(probs):\n",
        "  labels = np.argmax(probs, axis = 1)\n",
        "  return labels\n",
        "\n",
        "# Generate one_hot_labels from labels\n",
        "def get_one_hot_label(labels):\n",
        "  one_hot_label = tf.keras.utils.to_categorical(labels, num_classes=10)\n",
        "  return one_hot_label\n",
        "\n",
        "# Generate signed_gradient\n",
        "def perturbation_generator(input_image, input_label, loss_object, model):\n",
        "  if loss_object is None:\n",
        "    loss_object = tf.keras.losses.CategoricalCrossentropy()\n",
        "  else:\n",
        "    loss_object = tf.keras.losses.get(loss_object)\n",
        "\n",
        "  with tf.GradientTape() as tape:\n",
        "    tape.watch(input_image)\n",
        "    prediction = model(input_image)\n",
        "    loss = loss_object(input_label, prediction)\n",
        "\n",
        "  gradient = tape.gradient(loss, input_image)   # Get the gradients of the loss w.r.t to the input image.\n",
        "  signed_grad = tf.sign(gradient)   # Get the sign of the gradients to create the perturbation\n",
        "\n",
        "  return signed_grad\n",
        "\n",
        "# Generate adversarial image data for all images\n",
        "def adversarial_imageset_generator(eps, model, data, labels, loss = None):\n",
        "  perturbed_imgs = np.zeros_like(data)\n",
        "\n",
        "  for i in range(len(perturbed_imgs)):\n",
        "    image = np.expand_dims(data[i], axis=0)\n",
        "    image = tf.convert_to_tensor(image)\n",
        "    label = np.expand_dims(labels[i], axis = 0)\n",
        "    label = tf.convert_to_tensor(label)\n",
        "    \n",
        "    perturbation = perturbation_generator(image, label, loss, model)\n",
        "    adv_img = image + eps*perturbation\n",
        "    perturbed_imgs[i] = adv_img[0]\n",
        "\n",
        "  return perturbed_imgs\n",
        "\n",
        "def Accuracy(data, labels, model):\n",
        "  pred = model.predict(data)\n",
        "  pred_labels = get_int_label(pred)\n",
        "\n",
        "  compare = np.equal(pred_labels, labels)\n",
        "  correct = np.count_nonzero(compare)\n",
        "  accuracy = correct/len(pred)  \n",
        "  \n",
        "  return accuracy"
      ],
      "execution_count": 0,
      "outputs": []
    },
    {
      "cell_type": "code",
      "metadata": {
        "id": "isi-vKfMzqgA",
        "colab_type": "code",
        "colab": {}
      },
      "source": [
        "img_data = training_images\n",
        "one_hot_labels = get_one_hot_label(training_labels)"
      ],
      "execution_count": 0,
      "outputs": []
    },
    {
      "cell_type": "markdown",
      "metadata": {
        "id": "9pcY_J0iIf8p",
        "colab_type": "text"
      },
      "source": [
        "For each model here we generate a separate set of 20000 adversarial examples."
      ]
    },
    {
      "cell_type": "code",
      "metadata": {
        "id": "5ODK90TlyUis",
        "colab_type": "code",
        "outputId": "3a1a3012-ee4b-4249-b456-c60d6e2faead",
        "colab": {
          "base_uri": "https://localhost:8080/",
          "height": 250
        }
      },
      "source": [
        "models = [model_fc_1, model_fc_2, model_cnn_1, model_cnn_2]\n",
        "epsilon = 0.1\n",
        "adv_exmp = {}\n",
        "adv_labels = {}\n",
        "idx = {}\n",
        "i = 1\n",
        "n = 20000\n",
        "\n",
        "for model in models:\n",
        "  np.random.seed(i)\n",
        "  ind = np.random.choice(60000, n, replace=False)\n",
        "  mini_batch = img_data[ind]\n",
        "  labels = training_labels[ind].reshape(n)\n",
        "\n",
        "  perturbed_imgs = adversarial_imageset_generator(eps = epsilon, model = model, data = mini_batch, labels = get_one_hot_label(labels))\n",
        "  adv_exmp[i] = perturbed_imgs\n",
        "  adv_labels[i] = labels\n",
        "  idx[i] = ind\n",
        "\n",
        "  i = i + 1"
      ],
      "execution_count": 10,
      "outputs": [
        {
          "output_type": "stream",
          "text": [
            "WARNING:tensorflow:Layer flatten is casting an input tensor from dtype float64 to the layer's dtype of float32, which is new behavior in TensorFlow 2.  The layer has dtype float32 because it's dtype defaults to floatx.\n",
            "\n",
            "If you intended to run this layer in float32, you can safely ignore this warning. If in doubt, this warning is likely only an issue if you are porting a TensorFlow 1.X model to TensorFlow 2.\n",
            "\n",
            "To change all layers to have dtype float64 by default, call `tf.keras.backend.set_floatx('float64')`. To change just this layer, pass dtype='float64' to the layer constructor. If you are the author of this layer, you can disable autocasting by passing autocast=False to the base Layer constructor.\n",
            "\n",
            "WARNING:tensorflow:Layer flatten_1 is casting an input tensor from dtype float64 to the layer's dtype of float32, which is new behavior in TensorFlow 2.  The layer has dtype float32 because it's dtype defaults to floatx.\n",
            "\n",
            "If you intended to run this layer in float32, you can safely ignore this warning. If in doubt, this warning is likely only an issue if you are porting a TensorFlow 1.X model to TensorFlow 2.\n",
            "\n",
            "To change all layers to have dtype float64 by default, call `tf.keras.backend.set_floatx('float64')`. To change just this layer, pass dtype='float64' to the layer constructor. If you are the author of this layer, you can disable autocasting by passing autocast=False to the base Layer constructor.\n",
            "\n"
          ],
          "name": "stdout"
        }
      ]
    },
    {
      "cell_type": "markdown",
      "metadata": {
        "id": "raxFeolRIww5",
        "colab_type": "text"
      },
      "source": [
        "Now we will evaluate each model on all sets of adversarial examples as well."
      ]
    },
    {
      "cell_type": "code",
      "metadata": {
        "id": "JFYxN3K2Ico0",
        "colab_type": "code",
        "outputId": "e07263ae-6b50-448e-e294-d98c459f6c24",
        "colab": {
          "base_uri": "https://localhost:8080/",
          "height": 301
        }
      },
      "source": [
        "acc_1 = []\n",
        "for model in models:\n",
        "  acc = []\n",
        "\n",
        "  for j in np.arange(1, 5):\n",
        "    hist = model.evaluate(adv_exmp[j], adv_labels[j], batch_size=512)\n",
        "    acc.append(hist[1])\n",
        "  \n",
        "  acc_1.append(acc)"
      ],
      "execution_count": 11,
      "outputs": [
        {
          "output_type": "stream",
          "text": [
            "40/40 [==============================] - 0s 4ms/step - loss: 9.2722 - accuracy: 0.0061\n",
            "40/40 [==============================] - 0s 4ms/step - loss: 5.5088 - accuracy: 0.0718\n",
            "40/40 [==============================] - 0s 4ms/step - loss: 0.2576 - accuracy: 0.9104\n",
            "40/40 [==============================] - 0s 4ms/step - loss: 0.2259 - accuracy: 0.9244\n",
            "40/40 [==============================] - 0s 4ms/step - loss: 4.2270 - accuracy: 0.1305\n",
            "40/40 [==============================] - 0s 4ms/step - loss: 6.7361 - accuracy: 0.0347\n",
            "40/40 [==============================] - 0s 4ms/step - loss: 0.2473 - accuracy: 0.9158\n",
            "40/40 [==============================] - 0s 4ms/step - loss: 0.2163 - accuracy: 0.9302\n",
            "40/40 [==============================] - 1s 23ms/step - loss: 0.0907 - accuracy: 0.9678\n",
            "40/40 [==============================] - 1s 19ms/step - loss: 0.0961 - accuracy: 0.9661\n",
            "40/40 [==============================] - 1s 19ms/step - loss: 1.4932 - accuracy: 0.6306\n",
            "40/40 [==============================] - 1s 19ms/step - loss: 0.2320 - accuracy: 0.9245\n",
            "40/40 [==============================] - 0s 12ms/step - loss: 0.0751 - accuracy: 0.9753\n",
            "40/40 [==============================] - 0s 11ms/step - loss: 0.0745 - accuracy: 0.9765\n",
            "40/40 [==============================] - 0s 12ms/step - loss: 0.1804 - accuracy: 0.9385\n",
            "40/40 [==============================] - 0s 11ms/step - loss: 0.5190 - accuracy: 0.8402\n"
          ],
          "name": "stdout"
        }
      ]
    },
    {
      "cell_type": "code",
      "metadata": {
        "id": "iGN57icVOalJ",
        "colab_type": "code",
        "outputId": "23d2e0b5-e6fb-4b94-8b4d-a44f9ffba705",
        "colab": {
          "base_uri": "https://localhost:8080/",
          "height": 301
        }
      },
      "source": [
        "acc_1"
      ],
      "execution_count": 12,
      "outputs": [
        {
          "output_type": "execute_result",
          "data": {
            "text/plain": [
              "[[0.006099999882280827,\n",
              "  0.07180000096559525,\n",
              "  0.9103999733924866,\n",
              "  0.9243999719619751],\n",
              " [0.13054999709129333,\n",
              "  0.034699998795986176,\n",
              "  0.9157500267028809,\n",
              "  0.9301999807357788],\n",
              " [0.9677500128746033,\n",
              "  0.9660999774932861,\n",
              "  0.630649983882904,\n",
              "  0.9244999885559082],\n",
              " [0.9752500057220459,\n",
              "  0.9765499830245972,\n",
              "  0.9384999871253967,\n",
              "  0.8402000069618225]]"
            ]
          },
          "metadata": {
            "tags": []
          },
          "execution_count": 12
        }
      ]
    },
    {
      "cell_type": "markdown",
      "metadata": {
        "id": "o-p89U78khXC",
        "colab_type": "text"
      },
      "source": [
        "We will now contruct other models with same architecture but now they will be trained on both, the natural images and adversarial images."
      ]
    },
    {
      "cell_type": "code",
      "metadata": {
        "id": "wyraXL7Ukg4y",
        "colab_type": "code",
        "outputId": "2330cc35-6640-4ec6-fc69-53d6d0884a4c",
        "colab": {
          "base_uri": "https://localhost:8080/",
          "height": 1000
        }
      },
      "source": [
        "# Adversarially trained model 1\n",
        "adv_model_1 = tf.keras.models.clone_model(model_fc_1)\n",
        "adv_model_1.compile(optimizer = tf.keras.optimizers.Adam(learning_rate = 0.0001),\n",
        "             loss = 'sparse_categorical_crossentropy',\n",
        "             metrics = ['accuracy'])\n",
        "\n",
        "adv_train_data = np.concatenate((training_images, adv_exmp[1]), axis = 0)\n",
        "adv_train_labels = np.concatenate((training_labels, adv_labels[1]), axis = 0)\n",
        "\n",
        "adv_model_1.fit(adv_train_data, adv_train_labels, epochs = 10, batch_size = 512)\n",
        "\n",
        "# Adversarially trained model 2\n",
        "adv_model_2 = tf.keras.models.clone_model(model_fc_2)\n",
        "adv_model_2.compile(optimizer = tf.keras.optimizers.Adam(learning_rate = 0.0001),\n",
        "             loss = 'sparse_categorical_crossentropy',\n",
        "             metrics = ['accuracy'])\n",
        "\n",
        "adv_train_data = np.concatenate((training_images, adv_exmp[2]), axis = 0)\n",
        "adv_train_labels = np.concatenate((training_labels, adv_labels[2]), axis = 0)\n",
        "\n",
        "adv_model_2.fit(adv_train_data, adv_train_labels, epochs = 10, batch_size = 512)\n",
        "\n",
        "# Adversarially trained model 3\n",
        "adv_model_3 = tf.keras.models.clone_model(model_cnn_1)\n",
        "adv_model_3.compile(optimizer = tf.keras.optimizers.Adam(),\n",
        "                  loss = 'sparse_categorical_crossentropy',\n",
        "                  metrics = ['accuracy'])\n",
        "\n",
        "adv_train_data = np.concatenate((training_images, adv_exmp[3]), axis = 0)\n",
        "adv_train_labels = np.concatenate((training_labels, adv_labels[3]), axis = 0)\n",
        "\n",
        "adv_model_3.fit(adv_train_data, adv_train_labels, epochs = 10, batch_size = 512)\n",
        "\n",
        "# Adversarially trained model 4\n",
        "adv_model_4 = tf.keras.models.clone_model(model_cnn_2)\n",
        "adv_model_4.compile(optimizer = tf.keras.optimizers.Adam(),\n",
        "             loss = 'sparse_categorical_crossentropy',\n",
        "             metrics = ['accuracy'])\n",
        "\n",
        "adv_train_data = np.concatenate((training_images, adv_exmp[4]), axis = 0)\n",
        "adv_train_labels = np.concatenate((training_labels, adv_labels[4]), axis = 0)\n",
        "\n",
        "adv_model_4.fit(adv_train_data, adv_train_labels, epochs = 10, batch_size = 512)\n",
        "\n",
        "adv_models = [adv_model_1, adv_model_2, adv_model_3, adv_model_4]"
      ],
      "execution_count": 14,
      "outputs": [
        {
          "output_type": "stream",
          "text": [
            "Epoch 1/10\n",
            "157/157 [==============================] - 1s 6ms/step - loss: 0.7133 - accuracy: 0.8387\n",
            "Epoch 2/10\n",
            "157/157 [==============================] - 1s 6ms/step - loss: 0.2306 - accuracy: 0.9380\n",
            "Epoch 3/10\n",
            "157/157 [==============================] - 1s 6ms/step - loss: 0.1686 - accuracy: 0.9546\n",
            "Epoch 4/10\n",
            "157/157 [==============================] - 1s 6ms/step - loss: 0.1347 - accuracy: 0.9628\n",
            "Epoch 5/10\n",
            "157/157 [==============================] - 1s 6ms/step - loss: 0.1118 - accuracy: 0.9693\n",
            "Epoch 6/10\n",
            "157/157 [==============================] - 1s 6ms/step - loss: 0.0954 - accuracy: 0.9737\n",
            "Epoch 7/10\n",
            "157/157 [==============================] - 1s 6ms/step - loss: 0.0815 - accuracy: 0.9778\n",
            "Epoch 8/10\n",
            "157/157 [==============================] - 1s 6ms/step - loss: 0.0716 - accuracy: 0.9803\n",
            "Epoch 9/10\n",
            "157/157 [==============================] - 1s 6ms/step - loss: 0.0637 - accuracy: 0.9825\n",
            "Epoch 10/10\n",
            "157/157 [==============================] - 1s 6ms/step - loss: 0.0559 - accuracy: 0.9850\n",
            "Epoch 1/10\n",
            "157/157 [==============================] - 1s 7ms/step - loss: 0.8123 - accuracy: 0.7850\n",
            "Epoch 2/10\n",
            "157/157 [==============================] - 1s 6ms/step - loss: 0.2862 - accuracy: 0.9209\n",
            "Epoch 3/10\n",
            "157/157 [==============================] - 1s 6ms/step - loss: 0.2114 - accuracy: 0.9398\n",
            "Epoch 4/10\n",
            "157/157 [==============================] - 1s 7ms/step - loss: 0.1697 - accuracy: 0.9520\n",
            "Epoch 5/10\n",
            "157/157 [==============================] - 1s 6ms/step - loss: 0.1420 - accuracy: 0.9601\n",
            "Epoch 6/10\n",
            "157/157 [==============================] - 1s 7ms/step - loss: 0.1206 - accuracy: 0.9658\n",
            "Epoch 7/10\n",
            "157/157 [==============================] - 1s 6ms/step - loss: 0.1061 - accuracy: 0.9694\n",
            "Epoch 8/10\n",
            "157/157 [==============================] - 1s 6ms/step - loss: 0.0946 - accuracy: 0.9726\n",
            "Epoch 9/10\n",
            "157/157 [==============================] - 1s 6ms/step - loss: 0.0843 - accuracy: 0.9764\n",
            "Epoch 10/10\n",
            "157/157 [==============================] - 1s 6ms/step - loss: 0.0768 - accuracy: 0.9779\n",
            "Epoch 1/10\n",
            "157/157 [==============================] - 8s 52ms/step - loss: 0.2576 - accuracy: 0.9248\n",
            "Epoch 2/10\n",
            "157/157 [==============================] - 8s 50ms/step - loss: 0.0657 - accuracy: 0.9800\n",
            "Epoch 3/10\n",
            "157/157 [==============================] - 8s 50ms/step - loss: 0.0367 - accuracy: 0.9888\n",
            "Epoch 4/10\n",
            "157/157 [==============================] - 8s 50ms/step - loss: 0.0249 - accuracy: 0.9924\n",
            "Epoch 5/10\n",
            "157/157 [==============================] - 8s 51ms/step - loss: 0.0185 - accuracy: 0.9943\n",
            "Epoch 6/10\n",
            "157/157 [==============================] - 8s 51ms/step - loss: 0.0135 - accuracy: 0.9961\n",
            "Epoch 7/10\n",
            "157/157 [==============================] - 8s 51ms/step - loss: 0.0106 - accuracy: 0.9967\n",
            "Epoch 8/10\n",
            "157/157 [==============================] - 8s 51ms/step - loss: 0.0088 - accuracy: 0.9974\n",
            "Epoch 9/10\n",
            "157/157 [==============================] - 8s 51ms/step - loss: 0.0073 - accuracy: 0.9979\n",
            "Epoch 10/10\n",
            "157/157 [==============================] - 8s 51ms/step - loss: 0.0066 - accuracy: 0.9977\n",
            "Epoch 1/10\n",
            "157/157 [==============================] - 5s 30ms/step - loss: 0.4146 - accuracy: 0.8683\n",
            "Epoch 2/10\n",
            "157/157 [==============================] - 5s 29ms/step - loss: 0.1053 - accuracy: 0.9684\n",
            "Epoch 3/10\n",
            "157/157 [==============================] - 5s 29ms/step - loss: 0.0683 - accuracy: 0.9797\n",
            "Epoch 4/10\n",
            "157/157 [==============================] - 5s 29ms/step - loss: 0.0573 - accuracy: 0.9831\n",
            "Epoch 5/10\n",
            "157/157 [==============================] - 5s 29ms/step - loss: 0.0473 - accuracy: 0.9858\n",
            "Epoch 6/10\n",
            "157/157 [==============================] - 5s 29ms/step - loss: 0.0410 - accuracy: 0.9871\n",
            "Epoch 7/10\n",
            "157/157 [==============================] - 5s 29ms/step - loss: 0.0366 - accuracy: 0.9889\n",
            "Epoch 8/10\n",
            "157/157 [==============================] - 5s 29ms/step - loss: 0.0316 - accuracy: 0.9907\n",
            "Epoch 9/10\n",
            "157/157 [==============================] - 5s 29ms/step - loss: 0.0296 - accuracy: 0.9907\n",
            "Epoch 10/10\n",
            "157/157 [==============================] - 5s 29ms/step - loss: 0.0295 - accuracy: 0.9909\n"
          ],
          "name": "stdout"
        }
      ]
    },
    {
      "cell_type": "markdown",
      "metadata": {
        "id": "MwGzKIHglpTj",
        "colab_type": "text"
      },
      "source": [
        "We will now again evaluate these adversarially trained models on previously generated adversarial examples."
      ]
    },
    {
      "cell_type": "code",
      "metadata": {
        "id": "bPc8QVLJlo3G",
        "colab_type": "code",
        "outputId": "10163fc5-ebf7-4eed-993b-06a21a6860f9",
        "colab": {
          "base_uri": "https://localhost:8080/",
          "height": 301
        }
      },
      "source": [
        "acc_2 = []\n",
        "for model in adv_models:\n",
        "  acc = []\n",
        "\n",
        "  for j in np.arange(1, 5):\n",
        "    hist = model.evaluate(adv_exmp[j], adv_labels[j], batch_size=512)\n",
        "    acc.append(hist[1])\n",
        "  \n",
        "  acc_2.append(acc)"
      ],
      "execution_count": 15,
      "outputs": [
        {
          "output_type": "stream",
          "text": [
            "40/40 [==============================] - 0s 4ms/step - loss: 0.0018 - accuracy: 0.9998\n",
            "40/40 [==============================] - 0s 4ms/step - loss: 0.5411 - accuracy: 0.8129\n",
            "40/40 [==============================] - 0s 4ms/step - loss: 0.2264 - accuracy: 0.9218\n",
            "40/40 [==============================] - 0s 4ms/step - loss: 0.2030 - accuracy: 0.9344\n",
            "40/40 [==============================] - 0s 4ms/step - loss: 0.2722 - accuracy: 0.9127\n",
            "40/40 [==============================] - 0s 4ms/step - loss: 0.0023 - accuracy: 0.9998\n",
            "40/40 [==============================] - 0s 4ms/step - loss: 0.2085 - accuracy: 0.9311\n",
            "40/40 [==============================] - 0s 4ms/step - loss: 0.1990 - accuracy: 0.9352\n",
            "40/40 [==============================] - 1s 22ms/step - loss: 0.0360 - accuracy: 0.9883\n",
            "40/40 [==============================] - 1s 19ms/step - loss: 0.0243 - accuracy: 0.9918\n",
            "40/40 [==============================] - 1s 20ms/step - loss: 0.0012 - accuracy: 0.9998\n",
            "40/40 [==============================] - 1s 19ms/step - loss: 0.1117 - accuracy: 0.9610\n",
            "40/40 [==============================] - 0s 11ms/step - loss: 0.7018 - accuracy: 0.8406\n",
            "40/40 [==============================] - 0s 11ms/step - loss: 0.9183 - accuracy: 0.7977\n",
            "40/40 [==============================] - 0s 11ms/step - loss: 0.4231 - accuracy: 0.8767\n",
            "40/40 [==============================] - 0s 11ms/step - loss: 0.0010 - accuracy: 0.9998\n"
          ],
          "name": "stdout"
        }
      ]
    },
    {
      "cell_type": "code",
      "metadata": {
        "id": "UtYzB0n6mLCd",
        "colab_type": "code",
        "outputId": "c00bfb31-9660-40e1-da4a-622e9d4bfac8",
        "colab": {
          "base_uri": "https://localhost:8080/",
          "height": 301
        }
      },
      "source": [
        "acc_2"
      ],
      "execution_count": 16,
      "outputs": [
        {
          "output_type": "execute_result",
          "data": {
            "text/plain": [
              "[[0.9998000264167786,\n",
              "  0.8129000067710876,\n",
              "  0.9218000173568726,\n",
              "  0.9344499707221985],\n",
              " [0.9126999974250793,\n",
              "  0.9998499751091003,\n",
              "  0.9310500025749207,\n",
              "  0.9352499842643738],\n",
              " [0.9882500171661377,\n",
              "  0.9917500019073486,\n",
              "  0.9998000264167786,\n",
              "  0.9610499739646912],\n",
              " [0.8405500054359436,\n",
              "  0.7977499961853027,\n",
              "  0.8766999840736389,\n",
              "  0.9998499751091003]]"
            ]
          },
          "metadata": {
            "tags": []
          },
          "execution_count": 16
        }
      ]
    },
    {
      "cell_type": "markdown",
      "metadata": {
        "id": "Fdy_ijEEmW-U",
        "colab_type": "text"
      },
      "source": [
        "Finally we generate new sets of adversarial examples and evaluate both adversarially trained models and base models for comparison on these new sets"
      ]
    },
    {
      "cell_type": "code",
      "metadata": {
        "id": "ItiaRHk3mOwZ",
        "colab_type": "code",
        "colab": {}
      },
      "source": [
        "epsilon = 0.1\n",
        "adv_exmp_test = {}\n",
        "adv_labels_test = {}\n",
        "idx_test = {}\n",
        "i = 1\n",
        "n = 20000\n",
        "\n",
        "for model in models:\n",
        "  np.random.seed(i + 100)\n",
        "  ind = np.random.choice(60000, n, replace=False)\n",
        "  mini_batch = img_data[ind]\n",
        "  labels = training_labels[ind].reshape(n)\n",
        "\n",
        "  perturbed_imgs = adversarial_imageset_generator(eps = epsilon, model = model, data = mini_batch, labels = get_one_hot_label(labels))\n",
        "  adv_exmp_test[i] = perturbed_imgs\n",
        "  adv_labels_test[i] = labels\n",
        "  idx_test[i] = ind\n",
        "\n",
        "  i = i + 1"
      ],
      "execution_count": 0,
      "outputs": []
    },
    {
      "cell_type": "code",
      "metadata": {
        "id": "z91fv4q5nCEL",
        "colab_type": "code",
        "outputId": "dd9884d6-f125-4c00-a9a9-9d3f5a7a96b0",
        "colab": {
          "base_uri": "https://localhost:8080/",
          "height": 301
        }
      },
      "source": [
        "acc_3 = []\n",
        "for model in adv_models:\n",
        "  acc = []\n",
        "\n",
        "  for j in np.arange(1, 5):\n",
        "    hist = model.evaluate(adv_exmp_test[j], adv_labels_test[j], batch_size=512)\n",
        "    acc.append(hist[1])\n",
        "  \n",
        "  acc_3.append(acc)"
      ],
      "execution_count": 18,
      "outputs": [
        {
          "output_type": "stream",
          "text": [
            "40/40 [==============================] - 0s 4ms/step - loss: 0.0023 - accuracy: 0.9997\n",
            "40/40 [==============================] - 0s 4ms/step - loss: 0.5216 - accuracy: 0.8167\n",
            "40/40 [==============================] - 0s 4ms/step - loss: 0.2227 - accuracy: 0.9241\n",
            "40/40 [==============================] - 0s 4ms/step - loss: 0.2035 - accuracy: 0.9356\n",
            "40/40 [==============================] - 0s 4ms/step - loss: 0.2693 - accuracy: 0.9133\n",
            "40/40 [==============================] - 0s 4ms/step - loss: 0.0032 - accuracy: 0.9995\n",
            "40/40 [==============================] - 0s 4ms/step - loss: 0.2067 - accuracy: 0.9326\n",
            "40/40 [==============================] - 0s 4ms/step - loss: 0.1994 - accuracy: 0.9362\n",
            "40/40 [==============================] - 1s 21ms/step - loss: 0.0358 - accuracy: 0.9894\n",
            "40/40 [==============================] - 1s 19ms/step - loss: 0.0282 - accuracy: 0.9911\n",
            "40/40 [==============================] - 1s 19ms/step - loss: 0.0043 - accuracy: 0.9987\n",
            "40/40 [==============================] - 1s 19ms/step - loss: 0.1092 - accuracy: 0.9628\n",
            "40/40 [==============================] - 0s 11ms/step - loss: 0.6924 - accuracy: 0.8421\n",
            "40/40 [==============================] - 0s 11ms/step - loss: 0.9252 - accuracy: 0.7972\n",
            "40/40 [==============================] - 0s 11ms/step - loss: 0.4103 - accuracy: 0.8790\n",
            "40/40 [==============================] - 0s 11ms/step - loss: 0.0031 - accuracy: 0.9990\n"
          ],
          "name": "stdout"
        }
      ]
    },
    {
      "cell_type": "code",
      "metadata": {
        "id": "xu0W0pshn2pQ",
        "colab_type": "code",
        "outputId": "77581ded-1480-4f04-f8e8-98ee07b0dbd3",
        "colab": {
          "base_uri": "https://localhost:8080/",
          "height": 301
        }
      },
      "source": [
        "acc_3"
      ],
      "execution_count": 19,
      "outputs": [
        {
          "output_type": "execute_result",
          "data": {
            "text/plain": [
              "[[0.9996500015258789,\n",
              "  0.8166999816894531,\n",
              "  0.9241499900817871,\n",
              "  0.9356499910354614],\n",
              " [0.9132500290870667,\n",
              "  0.9995499849319458,\n",
              "  0.9326000213623047,\n",
              "  0.9362499713897705],\n",
              " [0.9893500208854675,\n",
              "  0.9910500049591064,\n",
              "  0.9987499713897705,\n",
              "  0.9628000259399414],\n",
              " [0.8421000242233276,\n",
              "  0.7972000241279602,\n",
              "  0.8790000081062317,\n",
              "  0.9989500045776367]]"
            ]
          },
          "metadata": {
            "tags": []
          },
          "execution_count": 19
        }
      ]
    },
    {
      "cell_type": "code",
      "metadata": {
        "id": "XprkIAqF0DwO",
        "colab_type": "code",
        "outputId": "81140364-2610-4354-ddec-87e4109cfffb",
        "colab": {
          "base_uri": "https://localhost:8080/",
          "height": 301
        }
      },
      "source": [
        "acc_4 = []\n",
        "for model in models:\n",
        "  acc = []\n",
        "\n",
        "  for j in np.arange(1, 5):\n",
        "    hist = model.evaluate(adv_exmp_test[j], adv_labels_test[j], batch_size=512)\n",
        "    acc.append(hist[1])\n",
        "  \n",
        "  acc_4.append(acc)"
      ],
      "execution_count": 20,
      "outputs": [
        {
          "output_type": "stream",
          "text": [
            "40/40 [==============================] - 0s 3ms/step - loss: 9.2725 - accuracy: 0.0055\n",
            "40/40 [==============================] - 0s 3ms/step - loss: 5.4702 - accuracy: 0.0700\n",
            "40/40 [==============================] - 0s 4ms/step - loss: 0.2533 - accuracy: 0.9125\n",
            "40/40 [==============================] - 0s 3ms/step - loss: 0.2304 - accuracy: 0.9241\n",
            "40/40 [==============================] - 0s 3ms/step - loss: 4.2245 - accuracy: 0.1315\n",
            "40/40 [==============================] - 0s 3ms/step - loss: 6.7074 - accuracy: 0.0351\n",
            "40/40 [==============================] - 0s 3ms/step - loss: 0.2412 - accuracy: 0.9188\n",
            "40/40 [==============================] - 0s 4ms/step - loss: 0.2193 - accuracy: 0.9295\n",
            "40/40 [==============================] - 1s 19ms/step - loss: 0.0899 - accuracy: 0.9688\n",
            "40/40 [==============================] - 1s 19ms/step - loss: 0.0951 - accuracy: 0.9664\n",
            "40/40 [==============================] - 1s 19ms/step - loss: 1.4707 - accuracy: 0.6363\n",
            "40/40 [==============================] - 1s 19ms/step - loss: 0.2352 - accuracy: 0.9215\n",
            "40/40 [==============================] - 0s 11ms/step - loss: 0.0723 - accuracy: 0.9777\n",
            "40/40 [==============================] - 0s 11ms/step - loss: 0.0695 - accuracy: 0.9774\n",
            "40/40 [==============================] - 0s 11ms/step - loss: 0.1799 - accuracy: 0.9385\n",
            "40/40 [==============================] - 0s 11ms/step - loss: 0.5150 - accuracy: 0.8435\n"
          ],
          "name": "stdout"
        }
      ]
    },
    {
      "cell_type": "code",
      "metadata": {
        "id": "pDIMdCi3_D1E",
        "colab_type": "code",
        "colab": {
          "base_uri": "https://localhost:8080/",
          "height": 87
        },
        "outputId": "83050555-8a58-41da-e407-d4a5b62584e8"
      },
      "source": [
        "acc_5 = []\n",
        "for model in adv_models:\n",
        "\n",
        "  hist = model.evaluate(test_images, test_labels, batch_size=512)\n",
        "  acc_5.append(hist[1])"
      ],
      "execution_count": 21,
      "outputs": [
        {
          "output_type": "stream",
          "text": [
            "20/20 [==============================] - 0s 4ms/step - loss: 0.0900 - accuracy: 0.9733\n",
            "20/20 [==============================] - 0s 4ms/step - loss: 0.0891 - accuracy: 0.9734\n",
            "20/20 [==============================] - 0s 23ms/step - loss: 0.0286 - accuracy: 0.9911\n",
            "20/20 [==============================] - 0s 13ms/step - loss: 0.0269 - accuracy: 0.9918\n"
          ],
          "name": "stdout"
        }
      ]
    },
    {
      "cell_type": "markdown",
      "metadata": {
        "id": "HNJOcRFBBhGl",
        "colab_type": "text"
      },
      "source": [
        "# Visualization"
      ]
    },
    {
      "cell_type": "code",
      "metadata": {
        "id": "iATtLeMAB4lv",
        "colab_type": "code",
        "colab": {
          "base_uri": "https://localhost:8080/",
          "height": 1000
        },
        "outputId": "e368b521-03dd-43e3-8a58-7dc96ffc170b"
      },
      "source": [
        "# Want to visualize 4 perturbed images from each examples.\n",
        "name = ['FC1', 'FC2', 'Conv1', 'Conv2']\n",
        "\n",
        "for i in np.arange(1, 5):\n",
        "  ind = np.random.choice(20000, 4, replace = False)\n",
        "\n",
        "  print(\"Genereated from \" + name[i-1])\n",
        "  for j in ind:\n",
        "    k = idx[i][j]\n",
        "    nat_img = img_data[k]\n",
        "    nat_img = array_to_img(nat_img)\n",
        "\n",
        "    adv_img = adv_exmp[i][j]\n",
        "    adv_img = array_to_img(adv_img)\n",
        "\n",
        "    fig, (ax1, ax2) = plt.subplots(1, 2, figsize = [5, 5])\n",
        "    ax1.imshow(nat_img)\n",
        "    ax2.imshow(adv_img)\n",
        "    fig.show"
      ],
      "execution_count": 31,
      "outputs": [
        {
          "output_type": "stream",
          "text": [
            "Genereated from FC1\n",
            "Genereated from FC2\n",
            "Genereated from Conv1\n",
            "Genereated from Conv2\n"
          ],
          "name": "stdout"
        },
        {
          "output_type": "display_data",
          "data": {
            "image/png": "[encoded data removed]",
            "text/plain": [
              "<Figure size 360x360 with 2 Axes>"
            ]
          },
          "metadata": {
            "tags": [],
            "needs_background": "light"
          }
        },
        {
          "output_type": "display_data",
          "data": {
            "image/png": "[encoded data removed]",
            "text/plain": [
              "<Figure size 360x360 with 2 Axes>"
            ]
          },
          "metadata": {
            "tags": [],
            "needs_background": "light"
          }
        },
        {
          "output_type": "display_data",
          "data": {
            "image/png": "[encoded data removed]",
            "text/plain": [
              "<Figure size 360x360 with 2 Axes>"
            ]
          },
          "metadata": {
            "tags": [],
            "needs_background": "light"
          }
        },
        {
          "output_type": "display_data",
          "data": {
            "image/png": "[encoded data removed]",
            "text/plain": [
              "<Figure size 360x360 with 2 Axes>"
            ]
          },
          "metadata": {
            "tags": [],
            "needs_background": "light"
          }
        },
        {
          "output_type": "display_data",
          "data": {
            "image/png": "[encoded data removed]",
            "text/plain": [
              "<Figure size 360x360 with 2 Axes>"
            ]
          },
          "metadata": {
            "tags": [],
            "needs_background": "light"
          }
        },
        {
          "output_type": "display_data",
          "data": {
            "image/png": "[encoded data removed]",
            "text/plain": [
              "<Figure size 360x360 with 2 Axes>"
            ]
          },
          "metadata": {
            "tags": [],
            "needs_background": "light"
          }
        },
        {
          "output_type": "display_data",
          "data": {
            "image/png": "[encoded data removed]",
            "text/plain": [
              "<Figure size 360x360 with 2 Axes>"
            ]
          },
          "metadata": {
            "tags": [],
            "needs_background": "light"
          }
        },
        {
          "output_type": "display_data",
          "data": {
            "image/png": "[encoded data removed]",
            "text/plain": [
              "<Figure size 360x360 with 2 Axes>"
            ]
          },
          "metadata": {
            "tags": [],
            "needs_background": "light"
          }
        },
        {
          "output_type": "display_data",
          "data": {
            "image/png": "[encoded data removed]",
            "text/plain": [
              "<Figure size 360x360 with 2 Axes>"
            ]
          },
          "metadata": {
            "tags": [],
            "needs_background": "light"
          }
        },
        {
          "output_type": "display_data",
          "data": {
            "image/png": "[encoded data removed]",
            "text/plain": [
              "<Figure size 360x360 with 2 Axes>"
            ]
          },
          "metadata": {
            "tags": [],
            "needs_background": "light"
          }
        },
        {
          "output_type": "display_data",
          "data": {
            "image/png": "[encoded data removed]",
            "text/plain": [
              "<Figure size 360x360 with 2 Axes>"
            ]
          },
          "metadata": {
            "tags": [],
            "needs_background": "light"
          }
        },
        {
          "output_type": "display_data",
          "data": {
            "image/png": "[encoded data removed]",
            "text/plain": [
              "<Figure size 360x360 with 2 Axes>"
            ]
          },
          "metadata": {
            "tags": [],
            "needs_background": "light"
          }
        },
        {
          "output_type": "display_data",
          "data": {
            "image/png": "[encoded data removed]",
            "text/plain": [
              "<Figure size 360x360 with 2 Axes>"
            ]
          },
          "metadata": {
            "tags": [],
            "needs_background": "light"
          }
        },
        {
          "output_type": "display_data",
          "data": {
            "image/png": "[encoded data removed]",
            "text/plain": [
              "<Figure size 360x360 with 2 Axes>"
            ]
          },
          "metadata": {
            "tags": [],
            "needs_background": "light"
          }
        },
        {
          "output_type": "display_data",
          "data": {
            "image/png": "[encoded data removed]",
            "text/plain": [
              "<Figure size 360x360 with 2 Axes>"
            ]
          },
          "metadata": {
            "tags": [],
            "needs_background": "light"
          }
        },
        {
          "output_type": "display_data",
          "data": {
            "image/png": "[encoded data removed]",
            "text/plain": [
              "<Figure size 360x360 with 2 Axes>"
            ]
          },
          "metadata": {
            "tags": [],
            "needs_background": "light"
          }
        }
      ]
    },
    {
      "cell_type": "code",
      "metadata": {
        "id": "CKWBbAgnEGnB",
        "colab_type": "code",
        "colab": {
          "base_uri": "https://localhost:8080/",
          "height": 34
        },
        "outputId": "698d1f9d-c822-4fa6-e7ec-b4f2b4832b50"
      },
      "source": [
        ""
      ],
      "execution_count": 28,
      "outputs": [
        {
          "output_type": "execute_result",
          "data": {
            "text/plain": [
              "17548"
            ]
          },
          "metadata": {
            "tags": []
          },
          "execution_count": 28
        }
      ]
    },
    {
      "cell_type": "markdown",
      "metadata": {
        "id": "YTcZpUvlnwjs",
        "colab_type": "text"
      },
      "source": [
        "# Debugging & extras"
      ]
    },
    {
      "cell_type": "code",
      "metadata": {
        "id": "zv45wcPVWTqR",
        "colab_type": "code",
        "outputId": "3df8dc85-8d47-46c3-c6e5-bfed9a602e21",
        "colab": {
          "base_uri": "https://localhost:8080/",
          "height": 518
        }
      },
      "source": [
        "# Visualizing perturbations for a random image\n",
        "i = np.random.choice(10000, 1)[0]\n",
        "\n",
        "image = np.expand_dims(img_data[i], axis=0)\n",
        "image = tf.convert_to_tensor(image)\n",
        "label = np.expand_dims(one_hot_labels[i], axis = 0)\n",
        "label = tf.convert_to_tensor(label)\n",
        "\n",
        "perturbation = perturbation_generator(image, label, loss_object = 'categorical_crossentropy').numpy()\n",
        "print(perturbation.shape)\n",
        "x = array_to_img(perturbation[0])\n",
        "plt.imshow(x)"
      ],
      "execution_count": 0,
      "outputs": [
        {
          "output_type": "stream",
          "text": [
            "(1, 28, 28, 1)\n"
          ],
          "name": "stdout"
        },
        {
          "output_type": "execute_result",
          "data": {
            "text/plain": [
              "<matplotlib.image.AxesImage at 0x7efaecdde048>"
            ]
          },
          "metadata": {
            "tags": []
          },
          "execution_count": 157
        },
        {
          "output_type": "display_data",
          "data": {
            "image/png": "[encoded data removed]",
            "text/plain": [
              "<Figure size 576x576 with 1 Axes>"
            ]
          },
          "metadata": {
            "tags": [],
            "needs_background": "light"
          }
        }
      ]
    },
    {
      "cell_type": "code",
      "metadata": {
        "id": "rJZNxyqqkbJN",
        "colab_type": "code",
        "outputId": "f96bd79e-991a-4680-9e30-2db39d73e211",
        "colab": {
          "base_uri": "https://localhost:8080/",
          "height": 238
        }
      },
      "source": [
        "i = np.random.choice(20000, 1)[0]\n",
        "j = idx[i]\n",
        "\n",
        "x = img_data[j]\n",
        "x = array_to_img(x)\n",
        "\n",
        "y = perturbed_imgs[i]\n",
        "y = array_to_img(y)\n",
        "\n",
        "fig, (ax1, ax2) = plt.subplots(1, 2, figsize = [3, 3])\n",
        "ax1.imshow(x)\n",
        "ax2.imshow(y)\n",
        "fig.show"
      ],
      "execution_count": 26,
      "outputs": [
        {
          "output_type": "error",
          "ename": "KeyError",
          "evalue": "ignored",
          "traceback": [
            "\u001b[0;31m---------------------------------------------------------------------------\u001b[0m",
            "\u001b[0;31mKeyError\u001b[0m                                  Traceback (most recent call last)",
            "\u001b[0;32m<ipython-input-26-e818a4fe0316>\u001b[0m in \u001b[0;36m<module>\u001b[0;34m()\u001b[0m\n\u001b[1;32m      1\u001b[0m \u001b[0mi\u001b[0m \u001b[0;34m=\u001b[0m \u001b[0mnp\u001b[0m\u001b[0;34m.\u001b[0m\u001b[0mrandom\u001b[0m\u001b[0;34m.\u001b[0m\u001b[0mchoice\u001b[0m\u001b[0;34m(\u001b[0m\u001b[0;36m20000\u001b[0m\u001b[0;34m,\u001b[0m \u001b[0;36m1\u001b[0m\u001b[0;34m)\u001b[0m\u001b[0;34m[\u001b[0m\u001b[0;36m0\u001b[0m\u001b[0;34m]\u001b[0m\u001b[0;34m\u001b[0m\u001b[0;34m\u001b[0m\u001b[0m\n\u001b[0;32m----> 2\u001b[0;31m \u001b[0mj\u001b[0m \u001b[0;34m=\u001b[0m \u001b[0midx\u001b[0m\u001b[0;34m[\u001b[0m\u001b[0mi\u001b[0m\u001b[0;34m]\u001b[0m\u001b[0;34m\u001b[0m\u001b[0;34m\u001b[0m\u001b[0m\n\u001b[0m\u001b[1;32m      3\u001b[0m \u001b[0;34m\u001b[0m\u001b[0m\n\u001b[1;32m      4\u001b[0m \u001b[0mx\u001b[0m \u001b[0;34m=\u001b[0m \u001b[0mimg_data\u001b[0m\u001b[0;34m[\u001b[0m\u001b[0mj\u001b[0m\u001b[0;34m]\u001b[0m\u001b[0;34m\u001b[0m\u001b[0;34m\u001b[0m\u001b[0m\n\u001b[1;32m      5\u001b[0m \u001b[0mx\u001b[0m \u001b[0;34m=\u001b[0m \u001b[0marray_to_img\u001b[0m\u001b[0;34m(\u001b[0m\u001b[0mx\u001b[0m\u001b[0;34m)\u001b[0m\u001b[0;34m\u001b[0m\u001b[0;34m\u001b[0m\u001b[0m\n",
            "\u001b[0;31mKeyError\u001b[0m: 7630"
          ]
        }
      ]
    },
    {
      "cell_type": "code",
      "metadata": {
        "id": "zhBCYk_0C_JO",
        "colab_type": "code",
        "colab": {
          "base_uri": "https://localhost:8080/",
          "height": 34
        },
        "outputId": "207fd465-93fb-4893-df78-3d664cb10dfe"
      },
      "source": [
        "img_data.shape"
      ],
      "execution_count": 27,
      "outputs": [
        {
          "output_type": "execute_result",
          "data": {
            "text/plain": [
              "(60000, 28, 28, 1)"
            ]
          },
          "metadata": {
            "tags": []
          },
          "execution_count": 27
        }
      ]
    },
    {
      "cell_type": "code",
      "metadata": {
        "id": "ZDWb1BDtDAAv",
        "colab_type": "code",
        "colab": {}
      },
      "source": [
        ""
      ],
      "execution_count": 0,
      "outputs": []
    }
  ]
}